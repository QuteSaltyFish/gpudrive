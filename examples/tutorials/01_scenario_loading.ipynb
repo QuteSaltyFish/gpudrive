{
 "cells": [
  {
   "attachments": {},
   "cell_type": "markdown",
   "metadata": {},
   "source": [
    "## Scenario loading and structure \n",
    "\n",
    "`GPUDrive` is a multi-agent driving simulator built on top of the [Waymo Open Motion Dataset (WOMD)](https://waymo.com/open/) (See also [Ettinger et al., 2021](https://arxiv.org/abs/2104.10133)). \n",
    "\n",
    "In this tutorial, we explain the structure of a traffic scenario and show use processed scenario data with `GPUDrive`.\n",
    "\n",
    "**Useful links to learn more**:\n",
    "- [`waymo-open-dataset`](https://github.com/waymo-research/waymo-open-dataset): Official dataset repo\n",
    "- [tf.Example proto format](https://waymo.com/open/data/motion/tfexample): Data dictionary for a raw WOMD scenario\n",
    "- [GPUDrive `data_utils`](https://github.com/Emerge-Lab/gpudrive/tree/main/data_utils): Docs and code we use to process the WOMD scenarios"
   ]
  },
  {
   "cell_type": "code",
   "execution_count": 13,
   "metadata": {},
   "outputs": [],
   "source": [
    "# Dependencies\n",
    "import json\n",
    "import matplotlib.pyplot as plt\n",
    "import os\n",
    "from pathlib import Path\n",
    "import seaborn as sns\n",
    "import pandas as pd\n",
    "\n",
    "# Set working directory to the base directory 'gpudrive'\n",
    "working_dir = Path.cwd()\n",
    "while working_dir.name != 'my_gpudrive':\n",
    "    working_dir = working_dir.parent\n",
    "    if working_dir == Path.home():\n",
    "        raise FileNotFoundError(\"Base directory 'gpudrive' not found\")\n",
    "os.chdir(working_dir)\n",
    "\n",
    "cmap = [\"r\", \"g\", \"b\", \"y\", \"c\"]\n",
    "%config InlineBackend.figure_format = 'svg'\n",
    "sns.set(\"notebook\", font_scale=1.1, rc={\"figure.figsize\": (8, 3)})\n",
    "sns.set_style(\"ticks\", rc={\"figure.facecolor\": \"none\", \"axes.facecolor\": \"none\"})"
   ]
  },
  {
   "cell_type": "markdown",
   "metadata": {},
   "source": [
    "### Iterating through the WOMD dataset\n",
    "\n",
    "We upload a folder containing three scenarios in the `data/processed/examples` directory that you can work with. The full dataset can be downloaded [here](https://github.com/Emerge-Lab/gpudrive/tree/main?tab=readme-ov-file#dataset). \n",
    "\n",
    "\n",
    "Notice that the data folder is structured as follows:\n",
    "\n",
    "```bash\n",
    "data/\n",
    "    - tfrecord-xxxxx-of-xxxxx\n",
    "    - ....\n",
    "    - tfrecord-xxxxx-of-xxxxx\n",
    "```\n",
    "\n",
    "Every file beginning with `tfrecord` is a unique traffic scenario.\n",
    "\n",
    "To use the dataset with the simulator, we use the conventions from [PyTorch dataloaders](https://pytorch.org/tutorials/beginner/basics/data_tutorial.html). \n",
    "\n",
    "\n",
    "Here is example of how to set up a dataloader:"
   ]
  },
  {
   "cell_type": "code",
   "execution_count": 14,
   "metadata": {},
   "outputs": [],
   "source": [
    "from gpudrive.env.dataset import SceneDataLoader\n",
    "\n",
    "data_loader = SceneDataLoader(\n",
    "    root=\"data/processed/examples\",  # Path to the dataset\n",
    "    # Batch size, you want this to be equal to the number of worlds (envs) so that every world receives a different scene\n",
    "    batch_size=10,\n",
    "    dataset_size=4,  # Total number of different scenes we want to use\n",
    "    sample_with_replacement=True,\n",
    "    seed=42,\n",
    "    shuffle=True,\n",
    ")"
   ]
  },
  {
   "cell_type": "code",
   "execution_count": 15,
   "metadata": {},
   "outputs": [
    {
     "data": {
      "text/plain": [
       "['data/processed/examples/tfrecord-00002-of-01000_407.json',\n",
       " 'data/processed/examples/tfrecord-00002-of-01000_407.json',\n",
       " 'data/processed/examples/tfrecord-00000-of-01000_402.json',\n",
       " 'data/processed/examples/tfrecord-00000-of-01000_325.json',\n",
       " 'data/processed/examples/tfrecord-00000-of-01000_4.json',\n",
       " 'data/processed/examples/tfrecord-00000-of-01000_402.json',\n",
       " 'data/processed/examples/tfrecord-00000-of-01000_4.json',\n",
       " 'data/processed/examples/tfrecord-00000-of-01000_325.json',\n",
       " 'data/processed/examples/tfrecord-00000-of-01000_325.json',\n",
       " 'data/processed/examples/tfrecord-00000-of-01000_4.json']"
      ]
     },
     "execution_count": 15,
     "metadata": {},
     "output_type": "execute_result"
    }
   ],
   "source": [
    "# The full dataset that we will be using\n",
    "data_loader.dataset"
   ]
  },
  {
   "cell_type": "code",
   "execution_count": 16,
   "metadata": {},
   "outputs": [
    {
     "data": {
      "text/plain": [
       "{'data/processed/examples/tfrecord-00000-of-01000_325.json',\n",
       " 'data/processed/examples/tfrecord-00000-of-01000_4.json',\n",
       " 'data/processed/examples/tfrecord-00000-of-01000_402.json',\n",
       " 'data/processed/examples/tfrecord-00002-of-01000_407.json'}"
      ]
     },
     "execution_count": 16,
     "metadata": {},
     "output_type": "execute_result"
    }
   ],
   "source": [
    "# Notice that it only has 4 unique scenes, since we set the dataset_size to 4\n",
    "set(data_loader.dataset)"
   ]
  },
  {
   "cell_type": "code",
   "execution_count": 17,
   "metadata": {},
   "outputs": [
    {
     "data": {
      "text/plain": [
       "'data/processed/examples/tfrecord-00002-of-01000_407.json'"
      ]
     },
     "execution_count": 17,
     "metadata": {},
     "output_type": "execute_result"
    }
   ],
   "source": [
    "data_files = next(iter(data_loader))\n",
    "\n",
    "data_files[0]"
   ]
  },
  {
   "cell_type": "code",
   "execution_count": 18,
   "metadata": {},
   "outputs": [],
   "source": [
    "from gpudrive.env.env_torch import GPUDriveTorchEnv\n",
    "from gpudrive.env.config import EnvConfig"
   ]
  },
  {
   "cell_type": "code",
   "execution_count": 19,
   "metadata": {},
   "outputs": [],
   "source": [
    "# Pass the data_loader to the environment\n",
    "env = GPUDriveTorchEnv(\n",
    "    config=EnvConfig(),\n",
    "    data_loader=data_loader,\n",
    "    max_cont_agents=64,\n",
    "    device=\"cpu\",\n",
    ")"
   ]
  },
  {
   "cell_type": "markdown",
   "metadata": {},
   "source": [
    "### Deep dive: What is inside a traffic scenario? 🤔🔬"
   ]
  },
  {
   "attachments": {},
   "cell_type": "markdown",
   "metadata": {},
   "source": [
    "Though every scenario in the WOMD is unique, they all share the same basic data structure. Traffic scenarios are essentially dictionaries, which you can inspect using tools like [JSON Formatter](https://jsonformatter.org/json-viewer). We'll also look at one in this notebook. In a nutshell, traffic scenarios contain a few key elements:\n",
    "\n",
    "- **Road map**: The layout and structure of the roads.\n",
    "- **Human driving (expert) demonstrations**: Examples of human driving behavior.\n",
    "- **Road objects**: Elements such as stop signs and other traffic signals."
   ]
  },
  {
   "cell_type": "code",
   "execution_count": 20,
   "metadata": {},
   "outputs": [
    {
     "data": {
      "text/plain": [
       "dict_keys(['name', 'scenario_id', 'objects', 'roads', 'tl_states', 'metadata'])"
      ]
     },
     "execution_count": 20,
     "metadata": {},
     "output_type": "execute_result"
    }
   ],
   "source": [
    "# Take an example scene\n",
    "data_path = \"data/processed/examples/tfrecord-00000-of-01000_325.json\"\n",
    "\n",
    "with open(data_path) as file:\n",
    "    traffic_scene = json.load(file)\n",
    "\n",
    "traffic_scene.keys()"
   ]
  },
  {
   "cell_type": "markdown",
   "metadata": {},
   "source": [
    "\n",
    "We will show you how to render a scene in ⏭️ tutorial `03`, which introduces the gym environment wrapper. Let's first take a closer look at the data structure."
   ]
  },
  {
   "attachments": {},
   "cell_type": "markdown",
   "metadata": {},
   "source": [
    "### Global Overview\n",
    "\n",
    "A traffic scene includes the following key elements:\n",
    "\n",
    "- **`name`**: The name of the traffic scenario.  \n",
    "- **`scenario_id`**: Unique identifier for every scenario.\n",
    "- **`objects`**: Dynamic entities such as vehicles or other moving elements in the scene.  \n",
    "- **`roads`**: Stationary elements, including road points and fixed objects.  \n",
    "- **`tl_states`**: Traffic light states (currently not included in processing).  \n",
    "- **`metadata`**: Additional details about the traffic scenario, such as the index of the self-driving car (SDC) and details for the WOSAC Challenge."
   ]
  },
  {
   "cell_type": "code",
   "execution_count": 21,
   "metadata": {},
   "outputs": [
    {
     "data": {
      "text/plain": [
       "{}"
      ]
     },
     "execution_count": 21,
     "metadata": {},
     "output_type": "execute_result"
    }
   ],
   "source": [
    "traffic_scene[\"tl_states\"]"
   ]
  },
  {
   "cell_type": "code",
   "execution_count": 22,
   "metadata": {},
   "outputs": [
    {
     "data": {
      "text/plain": [
       "'tfrecord-00000-of-01000_325.json'"
      ]
     },
     "execution_count": 22,
     "metadata": {},
     "output_type": "execute_result"
    }
   ],
   "source": [
    "traffic_scene[\"name\"]"
   ]
  },
  {
   "cell_type": "code",
   "execution_count": 23,
   "metadata": {},
   "outputs": [
    {
     "data": {
      "text/plain": [
       "{'sdc_track_index': 61,\n",
       " 'objects_of_interest': [],\n",
       " 'tracks_to_predict': [{'track_index': 3, 'difficulty': 0},\n",
       "  {'track_index': 32, 'difficulty': 0},\n",
       "  {'track_index': 1, 'difficulty': 0}]}"
      ]
     },
     "execution_count": 23,
     "metadata": {},
     "output_type": "execute_result"
    }
   ],
   "source": [
    "traffic_scene[\"metadata\"]"
   ]
  },
  {
   "cell_type": "code",
   "execution_count": 24,
   "metadata": {},
   "outputs": [
    {
     "data": {
      "text/plain": [
       "'ef3a8f65142f41ac'"
      ]
     },
     "execution_count": 24,
     "metadata": {},
     "output_type": "execute_result"
    }
   ],
   "source": [
    "traffic_scene[\"scenario_id\"]"
   ]
  },
  {
   "cell_type": "code",
   "execution_count": 25,
   "metadata": {},
   "outputs": [
    {
     "name": "stderr",
     "output_type": "stream",
     "text": [
      "/tmp/ipykernel_172356/2030758972.py:10: UserWarning: FigureCanvasAgg is non-interactive, and thus cannot be shown\n",
      "  plt.show()\n"
     ]
    }
   ],
   "source": [
    "pd.Series(\n",
    "    [\n",
    "        traffic_scene[\"objects\"][idx][\"type\"]\n",
    "        for idx in range(len(traffic_scene[\"objects\"]))\n",
    "    ]\n",
    ").value_counts().plot(kind=\"bar\", rot=45, color=cmap)\n",
    "plt.title(\n",
    "    f'Distribution of road objects in traffic scene. Total # objects: {len(traffic_scene[\"objects\"])}'\n",
    ")\n",
    "plt.show()"
   ]
  },
  {
   "attachments": {},
   "cell_type": "markdown",
   "metadata": {},
   "source": [
    "This traffic scenario only contains vehicles and pedestrians, some scenes have cyclists as well."
   ]
  },
  {
   "cell_type": "code",
   "execution_count": 26,
   "metadata": {},
   "outputs": [
    {
     "name": "stderr",
     "output_type": "stream",
     "text": [
      "/tmp/ipykernel_172356/1726262026.py:8: UserWarning: FigureCanvasAgg is non-interactive, and thus cannot be shown\n",
      "  plt.show()\n"
     ]
    }
   ],
   "source": [
    "pd.Series(\n",
    "    [traffic_scene[\"roads\"][idx][\"type\"]\n",
    "        for idx in range(len(traffic_scene[\"roads\"]))]\n",
    ").value_counts().plot(kind=\"bar\", rot=45, color=cmap)\n",
    "plt.title(\n",
    "    f'Distribution of road points in traffic scene. Total # points: {len(traffic_scene[\"roads\"])}'\n",
    ")\n",
    "plt.show()"
   ]
  },
  {
   "attachments": {},
   "cell_type": "markdown",
   "metadata": {},
   "source": [
    "### In-Depth: Road Objects\n",
    "\n",
    "This is a list of different road objects in the traffic scene. For each road object, we have information about its position, velocity, size, in which direction it's heading, whether it's a valid object, the type, and the final position of the vehicle."
   ]
  },
  {
   "cell_type": "code",
   "execution_count": 27,
   "metadata": {},
   "outputs": [
    {
     "data": {
      "text/plain": [
       "dict_keys(['position', 'width', 'length', 'height', 'heading', 'velocity', 'valid', 'goalPosition', 'type', 'id', 'mark_as_expert'])"
      ]
     },
     "execution_count": 27,
     "metadata": {},
     "output_type": "execute_result"
    }
   ],
   "source": [
    "# Take the first object\n",
    "idx = 0\n",
    "\n",
    "# For each object, we have this information:\n",
    "traffic_scene[\"objects\"][idx].keys()"
   ]
  },
  {
   "cell_type": "code",
   "execution_count": 28,
   "metadata": {},
   "outputs": [
    {
     "name": "stdout",
     "output_type": "stream",
     "text": [
      "[\n",
      "    {\n",
      "        \"x\": -8330.69921875,\n",
      "        \"y\": 8096.3125,\n",
      "        \"z\": -38.52962875366211\n",
      "    },\n",
      "    {\n",
      "        \"x\": -8329.8330078125,\n",
      "        \"y\": 8095.95556640625,\n",
      "        \"z\": -38.500244512748395\n",
      "    },\n",
      "    {\n",
      "        \"x\": -8328.87109375,\n",
      "        \"y\": 8095.533203125,\n",
      "        \"z\": -38.49168714732872\n",
      "    },\n",
      "    {\n",
      "        \"x\": -8327.91796875,\n",
      "        \"y\": 8095.09716796875,\n",
      "        \"z\": -38.482875825391815\n",
      "    },\n",
      "    {\n",
      "        \"x\": -8326.9345703125,\n",
      "        \"y\": 8094.64990234375,\n",
      "        \"z\": -38.4840157041386\n",
      "    },\n",
      "    {\n",
      "        \"x\": -8325.93359375,\n",
      "        \"y\": 8094.1865234375,\n",
      "        \"z\": -38.47635243273912\n",
      "    },\n",
      "    {\n",
      "        \"x\": -8324.958984375,\n",
      "        \"y\": 8093.74658203125,\n",
      "        \"z\": -38.46117327593842\n",
      "    },\n",
      "    {\n",
      "        \"x\": -8323.9189453125,\n",
      "        \"y\": 8093.279296875,\n",
      "        \"z\": -38.463948981567015\n",
      "    },\n",
      "    {\n",
      "        \"x\": -8322.89453125,\n",
      "        \"y\": 8092.822265625,\n",
      "        \"z\": -38.461732818135395\n",
      "    },\n",
      "    {\n",
      "        \"x\": -8321.853515625,\n",
      "        \"y\": 8092.35546875,\n",
      "        \"z\": -38.441345671330836\n",
      "    }\n",
      "]\n"
     ]
    }
   ],
   "source": [
    "# Position contains the (x, y) coordinates for the vehicle at every time step\n",
    "print(json.dumps(traffic_scene[\"objects\"][idx][\"position\"][:10], indent=4))"
   ]
  },
  {
   "cell_type": "code",
   "execution_count": 29,
   "metadata": {},
   "outputs": [
    {
     "data": {
      "text/plain": [
       "(2.066138744354248, 4.621184349060059)"
      ]
     },
     "execution_count": 29,
     "metadata": {},
     "output_type": "execute_result"
    }
   ],
   "source": [
    "# Width and length together make the size of the object, and is used to see if there is a collision\n",
    "traffic_scene[\"objects\"][idx][\"width\"], traffic_scene[\"objects\"][idx][\"length\"]"
   ]
  },
  {
   "attachments": {},
   "cell_type": "markdown",
   "metadata": {},
   "source": [
    "An object's heading refers to the direction it is pointing or moving in. The default coordinate system in Nocturne is right-handed, where the positive x and y axes point to the right and downwards, respectively. In a right-handed coordinate system, 0 degrees is located on the x-axis and the angle increases counter-clockwise.\n",
    "\n",
    "Because the scene is created from the viewpoint of an ego driver, there may be instances where the heading of certain vehicles is not available. These cases are represented by the value `-10_000`, to indicate that these steps should be filtered out or are invalid."
   ]
  },
  {
   "cell_type": "code",
   "execution_count": 30,
   "metadata": {},
   "outputs": [
    {
     "name": "stderr",
     "output_type": "stream",
     "text": [
      "/tmp/ipykernel_172356/385140684.py:5: UserWarning: FigureCanvasAgg is non-interactive, and thus cannot be shown\n",
      "  plt.show()\n"
     ]
    }
   ],
   "source": [
    "# Heading is the direction in which the vehicle is pointing\n",
    "plt.plot(traffic_scene[\"objects\"][idx][\"heading\"])\n",
    "plt.xlabel(\"Time step\")\n",
    "plt.ylabel(\"Heading\")\n",
    "plt.show()"
   ]
  },
  {
   "cell_type": "code",
   "execution_count": 31,
   "metadata": {},
   "outputs": [
    {
     "name": "stdout",
     "output_type": "stream",
     "text": [
      "[\n",
      "    {\n",
      "        \"x\": 8.662109375,\n",
      "        \"y\": -3.5693359375\n",
      "    },\n",
      "    {\n",
      "        \"x\": 8.662109375,\n",
      "        \"y\": -3.5693359375\n",
      "    },\n",
      "    {\n",
      "        \"x\": 9.619140625,\n",
      "        \"y\": -4.2236328125\n",
      "    },\n",
      "    {\n",
      "        \"x\": 9.53125,\n",
      "        \"y\": -4.3603515625\n",
      "    },\n",
      "    {\n",
      "        \"x\": 9.833984375,\n",
      "        \"y\": -4.47265625\n",
      "    },\n",
      "    {\n",
      "        \"x\": 10.009765625,\n",
      "        \"y\": -4.6337890625\n",
      "    },\n",
      "    {\n",
      "        \"x\": 9.74609375,\n",
      "        \"y\": -4.3994140625\n",
      "    },\n",
      "    {\n",
      "        \"x\": 10.400390625,\n",
      "        \"y\": -4.6728515625\n",
      "    },\n",
      "    {\n",
      "        \"x\": 10.244140625,\n",
      "        \"y\": -4.5703125\n",
      "    },\n",
      "    {\n",
      "        \"x\": 10.41015625,\n",
      "        \"y\": -4.66796875\n",
      "    }\n",
      "]\n"
     ]
    }
   ],
   "source": [
    "# Velocity shows the velocity in the x- and y- directions\n",
    "print(json.dumps(traffic_scene[\"objects\"][idx][\"velocity\"][:10], indent=4))"
   ]
  },
  {
   "cell_type": "code",
   "execution_count": 32,
   "metadata": {},
   "outputs": [
    {
     "name": "stderr",
     "output_type": "stream",
     "text": [
      "/tmp/ipykernel_172356/4060812747.py:5: UserWarning: FigureCanvasAgg is non-interactive, and thus cannot be shown\n",
      "  plt.show()\n"
     ]
    }
   ],
   "source": [
    "# Valid indicates if the state of the vehicle was observed for each timepoint\n",
    "plt.xlabel(\"Time step\")\n",
    "plt.ylabel(\"IS VALID\")\n",
    "plt.plot(traffic_scene[\"objects\"][idx][\"valid\"], \"_\", lw=5)\n",
    "plt.show()"
   ]
  },
  {
   "cell_type": "code",
   "execution_count": 33,
   "metadata": {},
   "outputs": [
    {
     "data": {
      "text/plain": [
       "{'x': -8275.5390625, 'y': 8071.49462890625, 'z': -38.305127086351085}"
      ]
     },
     "execution_count": 33,
     "metadata": {},
     "output_type": "execute_result"
    }
   ],
   "source": [
    "# Each object has a goalPosition, an (x, y) position within the scene\n",
    "traffic_scene[\"objects\"][idx][\"goalPosition\"]"
   ]
  },
  {
   "cell_type": "code",
   "execution_count": 34,
   "metadata": {},
   "outputs": [
    {
     "data": {
      "text/plain": [
       "'vehicle'"
      ]
     },
     "execution_count": 34,
     "metadata": {},
     "output_type": "execute_result"
    }
   ],
   "source": [
    "# Finally, we have the type of the vehicle\n",
    "traffic_scene[\"objects\"][idx][\"type\"]"
   ]
  },
  {
   "attachments": {},
   "cell_type": "markdown",
   "metadata": {},
   "source": [
    "### In-Depth: Road Points\n",
    "\n",
    "Road points are static objects in the scene."
   ]
  },
  {
   "cell_type": "code",
   "execution_count": 35,
   "metadata": {},
   "outputs": [
    {
     "data": {
      "text/plain": [
       "dict_keys(['geometry', 'type', 'map_element_id', 'id'])"
      ]
     },
     "execution_count": 35,
     "metadata": {},
     "output_type": "execute_result"
    }
   ],
   "source": [
    "traffic_scene[\"roads\"][idx].keys()"
   ]
  },
  {
   "cell_type": "code",
   "execution_count": 36,
   "metadata": {},
   "outputs": [
    {
     "data": {
      "text/plain": [
       "'road_edge'"
      ]
     },
     "execution_count": 36,
     "metadata": {},
     "output_type": "execute_result"
    }
   ],
   "source": [
    "# This point represents the edge of a road\n",
    "traffic_scene[\"roads\"][idx][\"type\"]"
   ]
  },
  {
   "cell_type": "code",
   "execution_count": 37,
   "metadata": {},
   "outputs": [
    {
     "name": "stdout",
     "output_type": "stream",
     "text": [
      "[\n",
      "    {\n",
      "        \"x\": -8541.524547445766,\n",
      "        \"y\": 8167.38744960166,\n",
      "        \"z\": -39.31986597933531\n",
      "    },\n",
      "    {\n",
      "        \"x\": -8541.052105238197,\n",
      "        \"y\": 8167.254393662127,\n",
      "        \"z\": -39.32161462356804\n",
      "    },\n",
      "    {\n",
      "        \"x\": -8540.579632931813,\n",
      "        \"y\": 8167.121444633392,\n",
      "        \"z\": -39.32336326780076\n",
      "    },\n",
      "    {\n",
      "        \"x\": -8540.107127841891,\n",
      "        \"y\": 8166.9886121632835,\n",
      "        \"z\": -39.32336326780076\n",
      "    },\n",
      "    {\n",
      "        \"x\": -8539.634587292505,\n",
      "        \"y\": 8166.855905899633,\n",
      "        \"z\": -39.32511191203348\n",
      "    },\n",
      "    {\n",
      "        \"x\": -8539.162008608988,\n",
      "        \"y\": 8166.723335492638,\n",
      "        \"z\": -39.326860556266205\n",
      "    },\n",
      "    {\n",
      "        \"x\": -8538.689389127983,\n",
      "        \"y\": 8166.590910594858,\n",
      "        \"z\": -39.32860920049893\n",
      "    },\n",
      "    {\n",
      "        \"x\": -8538.216726198703,\n",
      "        \"y\": 8166.458640862011,\n",
      "        \"z\": -39.33035784473165\n",
      "    },\n",
      "    {\n",
      "        \"x\": -8537.744017176647,\n",
      "        \"y\": 8166.326535951388,\n",
      "        \"z\": -39.33210648896437\n",
      "    },\n",
      "    {\n",
      "        \"x\": -8537.271259426108,\n",
      "        \"y\": 8166.194605524229,\n",
      "        \"z\": -39.3338551331971\n",
      "    }\n",
      "]\n"
     ]
    }
   ],
   "source": [
    "# Geometry contains the (x, y) position(s) for a road point\n",
    "# Note that this will be a list for road lanes and edges but a single (x, y) tuple for stop signs and alike\n",
    "print(json.dumps(traffic_scene[\"roads\"][idx][\"geometry\"][:10], indent=4))"
   ]
  },
  {
   "cell_type": "code",
   "execution_count": 38,
   "metadata": {},
   "outputs": [],
   "source": [
    "road_types = set()\n",
    "for road in traffic_scene[\"roads\"]:\n",
    "    road_types.add(road[\"type\"])"
   ]
  },
  {
   "cell_type": "code",
   "execution_count": 39,
   "metadata": {},
   "outputs": [
    {
     "data": {
      "text/plain": [
       "{'crosswalk', 'driveway', 'lane', 'road_edge', 'road_line', 'stop_sign'}"
      ]
     },
     "execution_count": 39,
     "metadata": {},
     "output_type": "execute_result"
    }
   ],
   "source": [
    "road_types"
   ]
  },
  {
   "cell_type": "code",
   "execution_count": null,
   "metadata": {},
   "outputs": [],
   "source": []
  }
 ],
 "metadata": {
  "kernelspec": {
   "display_name": "gpudrive",
   "language": "python",
   "name": "python3"
  },
  "language_info": {
   "codemirror_mode": {
    "name": "ipython",
    "version": 3
   },
   "file_extension": ".py",
   "mimetype": "text/x-python",
   "name": "python",
   "nbconvert_exporter": "python",
   "pygments_lexer": "ipython3",
   "version": "3.11.13"
  },
  "orig_nbformat": 4
 },
 "nbformat": 4,
 "nbformat_minor": 2
}
