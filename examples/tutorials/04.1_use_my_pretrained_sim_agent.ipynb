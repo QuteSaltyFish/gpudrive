{
 "cells": [
  {
   "cell_type": "code",
   "execution_count": 16,
   "metadata": {},
   "outputs": [
    {
     "data": {
      "text/plain": [
       "PosixPath('/home/mingke.wang/Documents/my_gpudrive')"
      ]
     },
     "execution_count": 16,
     "metadata": {},
     "output_type": "execute_result"
    }
   ],
   "source": [
    "import torch\n",
    "import dataclasses\n",
    "import mediapy\n",
    "from huggingface_hub import PyTorchModelHubMixin\n",
    "from huggingface_hub import ModelCard\n",
    "from gpudrive.networks.late_fusion import NeuralNet\n",
    "\n",
    "from gpudrive.env.config import EnvConfig\n",
    "from gpudrive.env.env_torch import GPUDriveTorchEnv\n",
    "from gpudrive.visualize.utils import img_from_fig\n",
    "from gpudrive.env.dataset import SceneDataLoader\n",
    "from gpudrive.utils.config import load_config\n",
    "import os\n",
    "import torch\n",
    "from pathlib import Path\n",
    "# Set working directory to the base directory 'gpudrive_madrona'\n",
    "working_dir = Path.cwd()\n",
    "while working_dir.name != 'my_gpudrive':\n",
    "    working_dir = working_dir.parent\n",
    "    if working_dir == Path.home():\n",
    "        raise FileNotFoundError(\"Base directory 'gpudrive_madrona' not found\")\n",
    "os.chdir(working_dir)\n",
    "working_dir"
   ]
  },
  {
   "cell_type": "markdown",
   "metadata": {},
   "source": [
    "### Configs"
   ]
  },
  {
   "cell_type": "code",
   "execution_count": 17,
   "metadata": {},
   "outputs": [
    {
     "name": "stdout",
     "output_type": "stream",
     "text": [
      "{'mode': 'train', 'use_rnn': False, 'eval_model_path': None, 'baseline': False, 'data_dir': 'data/processed/training', 'continue_training': False, 'model_cpt': None, 'environment': {'name': 'gpudrive', 'num_worlds': 75, 'k_unique_scenes': 75, 'max_controlled_agents': 64, 'ego_state': True, 'road_map_obs': True, 'partner_obs': True, 'norm_obs': True, 'remove_non_vehicles': True, 'lidar_obs': False, 'reward_type': 'weighted_combination', 'collision_weight': -0.75, 'off_road_weight': -0.75, 'goal_achieved_weight': 1.0, 'dynamics_model': 'classic', 'collision_behavior': 'ignore', 'dist_to_goal_threshold': 2.0, 'polyline_reduction_threshold': 0.1, 'sampling_seed': 42, 'obs_radius': 50.0, 'action_space_steer_disc': 13, 'action_space_accel_disc': 7, 'use_vbd': False, 'vbd_model_path': 'gpudrive/integrations/vbd/weights/epoch=18.ckpt', 'init_steps': 11, 'vbd_trajectory_weight': 0.1, 'vbd_in_obs': False}, 'wandb': {'entity': '', 'project': 'gpudrive', 'group': 'test', 'mode': 'online', 'tags': ['ppo', 'ff']}, 'train': {'exp_id': 'PPO', 'seed': 42, 'cpu_offload': False, 'device': 'cuda', 'bptt_horizon': 1, 'compile': False, 'compile_mode': 'reduce-overhead', 'resample_scenes': False, 'resample_dataset_size': 10000, 'resample_interval': 2000000, 'sample_with_replacement': True, 'shuffle_dataset': False, 'torch_deterministic': False, 'total_timesteps': 1000000000, 'batch_size': 131072, 'minibatch_size': 8192, 'learning_rate': '3e-4', 'anneal_lr': False, 'gamma': 0.99, 'gae_lambda': 0.95, 'update_epochs': 4, 'norm_adv': True, 'clip_coef': 0.2, 'clip_vloss': False, 'vf_clip_coef': 0.2, 'ent_coef': 0.0001, 'vf_coef': 0.3, 'max_grad_norm': 0.5, 'target_kl': None, 'log_window': 1000, 'network': {'input_dim': 64, 'hidden_dim': 128, 'dropout': 0.01, 'class_name': 'NeuralNet', 'num_parameters': 0}, 'checkpoint_interval': 400, 'checkpoint_path': './runs', 'render': False, 'render_3d': True, 'render_interval': 1, 'render_k_scenarios': 10, 'render_format': 'mp4', 'render_fps': 15, 'zoom_radius': 50}, 'vec': {'backend': 'native', 'num_workers': 1, 'env_batch_size': 1, 'zero_copy': False}}\n"
     ]
    }
   ],
   "source": [
    "# Configs model has been trained with\n",
    "# config = load_config(\"examples/experimental/config/reliable_agents_params\")\n",
    "config = load_config(\"baselines/ppo/config/ppo_base_puffer\")\n",
    "print(config)\n",
    "\n",
    "max_agents = config.environment.max_controlled_agents\n",
    "num_envs = 1\n",
    "device = \"cpu\"  # cpu just because we're in a notebook"
   ]
  },
  {
   "cell_type": "markdown",
   "metadata": {},
   "source": [
    "### Load pre-trained agent via Hugging Face hub\n"
   ]
  },
  {
   "cell_type": "code",
   "execution_count": 18,
   "metadata": {},
   "outputs": [
    {
     "data": {
      "text/plain": [
       "<All keys matched successfully>"
      ]
     },
     "execution_count": 18,
     "metadata": {},
     "output_type": "execute_result"
    }
   ],
   "source": [
    "# sim_agent = NeuralNet.from_pretrained(\"daphne-cornelisse/policy_S10_000_02_27\").to(device)\n",
    "\n",
    "# Create the neural network instance first\n",
    "saved_cpt = torch.load(\n",
    "    f=\"model_PPO____S_256__06_11_15_50_29_632_210423.pt\",\n",
    "    map_location=device,\n",
    "    weights_only=False,\n",
    ")\n",
    "sim_agent = NeuralNet(\n",
    "    input_dim=saved_cpt[\"model_arch\"][\"input_dim\"],\n",
    "    action_dim=saved_cpt[\"action_dim\"],\n",
    "    hidden_dim=saved_cpt[\"model_arch\"][\"hidden_dim\"],\n",
    "    config=config,\n",
    ")\n",
    "\n",
    "# Load the model parameters\n",
    "sim_agent.load_state_dict(saved_cpt[\"parameters\"])\n",
    "\n",
    "# sim_agent = NeuralNet.from_pretrained(\n",
    "#     \"model_PPO____S_256__06_11_15_50_29_632_210423.pt\")"
   ]
  },
  {
   "cell_type": "code",
   "execution_count": 19,
   "metadata": {},
   "outputs": [
    {
     "data": {
      "text/plain": [
       "91"
      ]
     },
     "execution_count": 19,
     "metadata": {},
     "output_type": "execute_result"
    }
   ],
   "source": [
    "# Agent has an action dimension of 91: 13 steering wheel angle discretizations x 9 acceleration discretizations\n",
    "sim_agent.action_dim"
   ]
  },
  {
   "cell_type": "code",
   "execution_count": 20,
   "metadata": {},
   "outputs": [
    {
     "data": {
      "text/plain": [
       "2984"
      ]
     },
     "execution_count": 20,
     "metadata": {},
     "output_type": "execute_result"
    }
   ],
   "source": [
    "# Size of flattened observation vector\n",
    "sim_agent.obs_dim"
   ]
  },
  {
   "cell_type": "code",
   "execution_count": 21,
   "metadata": {},
   "outputs": [
    {
     "data": {
      "text/plain": [
       "['ffn', 'model_hub_mixin', 'pytorch_model_hub_mixin']"
      ]
     },
     "execution_count": 21,
     "metadata": {},
     "output_type": "execute_result"
    }
   ],
   "source": [
    "# Some other info\n",
    "card = ModelCard.load(\"daphne-cornelisse/policy_S10_000_02_27\")\n",
    "card.data.tags"
   ]
  },
  {
   "cell_type": "code",
   "execution_count": 22,
   "metadata": {},
   "outputs": [],
   "source": [
    "# Model architecture\n",
    "# agent"
   ]
  },
  {
   "cell_type": "code",
   "execution_count": 23,
   "metadata": {},
   "outputs": [],
   "source": [
    "# Weights\n",
    "# agent.state_dict()"
   ]
  },
  {
   "cell_type": "markdown",
   "metadata": {},
   "source": [
    "### Make environment"
   ]
  },
  {
   "cell_type": "code",
   "execution_count": 24,
   "metadata": {},
   "outputs": [],
   "source": [
    "# Create data loader\n",
    "train_loader = SceneDataLoader(\n",
    "    root='data/exp',\n",
    "    batch_size=num_envs,\n",
    "    dataset_size=1,\n",
    "    sample_with_replacement=False,\n",
    "    file_prefix=\"\",\n",
    ")\n",
    "\n",
    "# Set params\n",
    "env_config = dataclasses.replace(\n",
    "    EnvConfig(),\n",
    "    ego_state=config.environment.ego_state,\n",
    "    road_map_obs=config.environment.road_map_obs,\n",
    "    partner_obs=config.environment.partner_obs,\n",
    "    reward_type=config.environment.reward_type,\n",
    "    norm_obs=config.environment.norm_obs,\n",
    "    dynamics_model=config.environment.dynamics_model,\n",
    "    collision_behavior=config.environment.collision_behavior,\n",
    "    dist_to_goal_threshold=config.environment.dist_to_goal_threshold,\n",
    "    polyline_reduction_threshold=config.environment.polyline_reduction_threshold,\n",
    "    remove_non_vehicles=config.environment.remove_non_vehicles,\n",
    "    lidar_obs=config.environment.lidar_obs,\n",
    "    disable_classic_obs=config.environment.lidar_obs,\n",
    "    obs_radius=config.environment.obs_radius,\n",
    "    steer_actions=torch.round(\n",
    "        torch.linspace(-torch.pi, torch.pi, config.environment.action_space_steer_disc), decimals=3\n",
    "    ),\n",
    "    accel_actions=torch.round(\n",
    "        torch.linspace(-4.0, 4.0, config.environment.action_space_accel_disc), decimals=3\n",
    "    ),\n",
    ")\n",
    "\n",
    "# Make env\n",
    "env = GPUDriveTorchEnv(\n",
    "    config=env_config,\n",
    "    data_loader=train_loader,\n",
    "    max_cont_agents=config.environment.max_controlled_agents,\n",
    "    device=device,\n",
    ")"
   ]
  },
  {
   "cell_type": "code",
   "execution_count": 25,
   "metadata": {},
   "outputs": [
    {
     "data": {
      "text/plain": [
       "['data/exp/new_map.json']"
      ]
     },
     "execution_count": 25,
     "metadata": {},
     "output_type": "execute_result"
    }
   ],
   "source": [
    "env.data_batch"
   ]
  },
  {
   "cell_type": "markdown",
   "metadata": {},
   "source": [
    "### Use the agent"
   ]
  },
  {
   "cell_type": "code",
   "execution_count": 26,
   "metadata": {},
   "outputs": [
    {
     "data": {
      "text/plain": [
       "torch.Size([1, 64, 2984])"
      ]
     },
     "execution_count": 26,
     "metadata": {},
     "output_type": "execute_result"
    }
   ],
   "source": [
    "next_obs = env.reset()\n",
    "\n",
    "control_mask = env.cont_agent_mask\n",
    "\n",
    "next_obs.shape"
   ]
  },
  {
   "cell_type": "code",
   "execution_count": 27,
   "metadata": {},
   "outputs": [],
   "source": [
    "action, logprob, entropy, value = sim_agent(\n",
    "    next_obs[control_mask], deterministic=False\n",
    ")"
   ]
  },
  {
   "cell_type": "code",
   "execution_count": 28,
   "metadata": {},
   "outputs": [
    {
     "data": {
      "text/plain": [
       "(torch.Size([]), torch.Size([]), torch.Size([]), torch.Size([1, 1]))"
      ]
     },
     "execution_count": 28,
     "metadata": {},
     "output_type": "execute_result"
    }
   ],
   "source": [
    "action.shape, logprob.shape, entropy.shape, value.shape"
   ]
  },
  {
   "cell_type": "code",
   "execution_count": 29,
   "metadata": {},
   "outputs": [
    {
     "data": {
      "text/plain": [
       "tensor([0.0000, 0.0933, 0.0933, 0.1120, 0.0043, 0.0000])"
      ]
     },
     "execution_count": 29,
     "metadata": {},
     "output_type": "execute_result"
    }
   ],
   "source": [
    "env._get_ego_state()[0][0]"
   ]
  },
  {
   "cell_type": "markdown",
   "metadata": {},
   "source": [
    "### Rollout"
   ]
  },
  {
   "cell_type": "code",
   "execution_count": 30,
   "metadata": {},
   "outputs": [
    {
     "name": "stdout",
     "output_type": "stream",
     "text": [
      "torch.Size([1, 64, 2984])\n",
      "Step: 90"
     ]
    }
   ],
   "source": [
    "next_obs = env.reset()\n",
    "\n",
    "control_mask = env.cont_agent_mask\n",
    "\n",
    "print(next_obs.shape)\n",
    "\n",
    "frames = {f\"env_{i}\": [] for i in range(num_envs)}\n",
    "\n",
    "for time_step in range(200):\n",
    "    print(f\"\\rStep: {time_step}\", end=\"\", flush=True)\n",
    "\n",
    "    # Predict actions\n",
    "    action, _, _, _ = sim_agent(\n",
    "        next_obs[control_mask], deterministic=False\n",
    "    )\n",
    "    action_template = torch.zeros(\n",
    "        (num_envs, max_agents), dtype=torch.int64, device=device\n",
    "    )\n",
    "    action_template[control_mask] = action.to(device)\n",
    "\n",
    "    # Step\n",
    "    env.step_dynamics(action_template)\n",
    "\n",
    "    # Render\n",
    "    sim_states = env.vis.plot_simulator_state(\n",
    "        env_indices=list(range(num_envs)),\n",
    "        time_steps=[time_step]*num_envs,\n",
    "        zoom_radius=100,\n",
    "        center_agent_indices=[0],   \n",
    "    )\n",
    "\n",
    "    for i in range(num_envs):\n",
    "        frames[f\"env_{i}\"].append(img_from_fig(sim_states[i]))\n",
    "\n",
    "    next_obs = env.get_obs()\n",
    "    reward = env.get_rewards()\n",
    "    done = env.get_dones()\n",
    "    info = env.get_infos()\n",
    "\n",
    "    if done.all():\n",
    "        break\n",
    "\n",
    "env.close()"
   ]
  },
  {
   "cell_type": "code",
   "execution_count": null,
   "metadata": {},
   "outputs": [],
   "source": []
  },
  {
   "cell_type": "code",
   "execution_count": 31,
   "metadata": {},
   "outputs": [
    {
     "data": {
      "text/html": [
       "<table class=\"show_videos\" style=\"border-spacing:0px;\"><tr><td style=\"padding:1px;\"><div style=\"display:flex; align-items:left;\">\n",
       "      <div style=\"display:flex; flex-direction:column; align-items:center;\">\n",
       "      <div>env_0</div><div><img width=\"500\" height=\"500\" style=\"image-rendering:auto; object-fit:cover;\" src=\"data:image/gif;base64,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\"/></div></div></div></td></tr></table>"
      ],
      "text/plain": [
       "<IPython.core.display.HTML object>"
      ]
     },
     "metadata": {},
     "output_type": "display_data"
    }
   ],
   "source": [
    "mediapy.show_videos(frames, fps=15, width=500,\n",
    "                    height=500, columns=2, codec='gif')"
   ]
  },
  {
   "cell_type": "code",
   "execution_count": 32,
   "metadata": {},
   "outputs": [],
   "source": [
    "\n",
    "\n",
    "mediapy.write_video(\n",
    "    \"output.gif\",\n",
    "    images=frames['env_0'],  # Change to 'env_0' to save only the first environment's frames\n",
    "    fps=10,\n",
    "    codec='gif',\n",
    ")"
   ]
  },
  {
   "cell_type": "code",
   "execution_count": null,
   "metadata": {},
   "outputs": [],
   "source": []
  }
 ],
 "metadata": {
  "kernelspec": {
   "display_name": "gpudrive",
   "language": "python",
   "name": "python3"
  },
  "language_info": {
   "codemirror_mode": {
    "name": "ipython",
    "version": 3
   },
   "file_extension": ".py",
   "mimetype": "text/x-python",
   "name": "python",
   "nbconvert_exporter": "python",
   "pygments_lexer": "ipython3",
   "version": "3.11.13"
  }
 },
 "nbformat": 4,
 "nbformat_minor": 2
}
