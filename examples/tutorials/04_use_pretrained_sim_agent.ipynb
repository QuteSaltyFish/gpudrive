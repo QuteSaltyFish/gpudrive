{
 "cells": [
  {
   "cell_type": "code",
   "execution_count": 1,
   "metadata": {},
   "outputs": [
    {
     "data": {
      "text/plain": [
       "PosixPath('/mnt/program/project/my_gpudrive')"
      ]
     },
     "execution_count": 1,
     "metadata": {},
     "output_type": "execute_result"
    }
   ],
   "source": [
    "import torch\n",
    "import dataclasses\n",
    "import mediapy\n",
    "from huggingface_hub import PyTorchModelHubMixin\n",
    "from huggingface_hub import ModelCard\n",
    "from gpudrive.networks.late_fusion import NeuralNet\n",
    "\n",
    "from gpudrive.env.config import EnvConfig\n",
    "from gpudrive.env.env_torch import GPUDriveTorchEnv\n",
    "from gpudrive.visualize.utils import img_from_fig\n",
    "from gpudrive.env.dataset import SceneDataLoader\n",
    "from gpudrive.utils.config import load_config\n",
    "import os\n",
    "import torch\n",
    "from pathlib import Path\n",
    "# Set working directory to the base directory 'gpudrive_madrona'\n",
    "working_dir = Path.cwd()\n",
    "while working_dir.name != 'my_gpudrive':\n",
    "    working_dir = working_dir.parent\n",
    "    if working_dir == Path.home():\n",
    "        raise FileNotFoundError(\"Base directory 'gpudrive_madrona' not found\")\n",
    "os.chdir(working_dir)\n",
    "working_dir"
   ]
  },
  {
   "cell_type": "markdown",
   "metadata": {},
   "source": [
    "### Configs"
   ]
  },
  {
   "cell_type": "code",
   "execution_count": 2,
   "metadata": {},
   "outputs": [
    {
     "name": "stdout",
     "output_type": "stream",
     "text": [
      "{'max_controlled_agents': 64, 'ego_state': True, 'road_map_obs': True, 'partner_obs': True, 'norm_obs': True, 'remove_non_vehicles': True, 'lidar_obs': False, 'reward_type': 'weighted_combination', 'collision_weight': -0.75, 'off_road_weight': -0.75, 'goal_achieved_weight': 1.0, 'dynamics_model': 'classic', 'collision_behavior': 'ignore', 'dist_to_goal_threshold': 2.0, 'polyline_reduction_threshold': 0.1, 'sampling_seed': 42, 'obs_radius': 50.0, 'action_space_steer_disc': 13, 'action_space_accel_disc': 7, 'init_mode': 'all_non_trivial', 'vbd_in_obs': False}\n"
     ]
    }
   ],
   "source": [
    "# Configs model has been trained with\n",
    "config = load_config(\"examples/experimental/config/reliable_agents_params\")\n",
    "# config = load_config(\"baselines/ppo/config/ppo_base_puffer\")\n",
    "print(config)\n",
    "\n",
    "max_agents = config.max_controlled_agents\n",
    "num_envs = 1\n",
    "device = \"cpu\"  # cpu just because we're in a notebook"
   ]
  },
  {
   "cell_type": "code",
   "execution_count": null,
   "metadata": {},
   "outputs": [],
   "source": []
  },
  {
   "cell_type": "markdown",
   "metadata": {},
   "source": [
    "### Load pre-trained agent via Hugging Face hub\n"
   ]
  },
  {
   "cell_type": "code",
   "execution_count": 3,
   "metadata": {},
   "outputs": [],
   "source": [
    "sim_agent = NeuralNet.from_pretrained(\"daphne-cornelisse/policy_S10_000_02_27\")\n",
    "# sim_agent = NeuralNet.from_pretrained(\n",
    "#     \"model_PPO____S_256__06_11_15_50_29_632_210423.pt\")"
   ]
  },
  {
   "cell_type": "code",
   "execution_count": 4,
   "metadata": {},
   "outputs": [
    {
     "data": {
      "text/plain": [
       "91"
      ]
     },
     "execution_count": 4,
     "metadata": {},
     "output_type": "execute_result"
    }
   ],
   "source": [
    "# Agent has an action dimension of 91: 13 steering wheel angle discretizations x 9 acceleration discretizations\n",
    "sim_agent.action_dim"
   ]
  },
  {
   "cell_type": "code",
   "execution_count": 5,
   "metadata": {},
   "outputs": [
    {
     "data": {
      "text/plain": [
       "2984"
      ]
     },
     "execution_count": 5,
     "metadata": {},
     "output_type": "execute_result"
    }
   ],
   "source": [
    "# Size of flattened observation vector\n",
    "sim_agent.obs_dim"
   ]
  },
  {
   "cell_type": "code",
   "execution_count": 6,
   "metadata": {},
   "outputs": [
    {
     "data": {
      "text/plain": [
       "['ffn', 'model_hub_mixin', 'pytorch_model_hub_mixin']"
      ]
     },
     "execution_count": 6,
     "metadata": {},
     "output_type": "execute_result"
    }
   ],
   "source": [
    "# Some other info\n",
    "card = ModelCard.load(\"daphne-cornelisse/policy_S10_000_02_27\")\n",
    "card.data.tags"
   ]
  },
  {
   "cell_type": "code",
   "execution_count": 7,
   "metadata": {},
   "outputs": [],
   "source": [
    "# Model architecture\n",
    "# agent"
   ]
  },
  {
   "cell_type": "code",
   "execution_count": 8,
   "metadata": {},
   "outputs": [],
   "source": [
    "# Weights\n",
    "# agent.state_dict()"
   ]
  },
  {
   "cell_type": "markdown",
   "metadata": {},
   "source": [
    "### Make environment"
   ]
  },
  {
   "cell_type": "code",
   "execution_count": 10,
   "metadata": {},
   "outputs": [],
   "source": [
    "# Create data loader\n",
    "train_loader = SceneDataLoader(\n",
    "    root='data/exp',\n",
    "    batch_size=num_envs,\n",
    "    dataset_size=1,\n",
    "    sample_with_replacement=False,\n",
    "    file_prefix=\"\",\n",
    ")\n",
    "\n",
    "# Set params\n",
    "env_config = dataclasses.replace(\n",
    "    EnvConfig(),\n",
    "    ego_state=config.ego_state,\n",
    "    road_map_obs=config.road_map_obs,\n",
    "    partner_obs=config.partner_obs,\n",
    "    reward_type=config.reward_type,\n",
    "    norm_obs=config.norm_obs,\n",
    "    dynamics_model=config.dynamics_model,\n",
    "    collision_behavior=config.collision_behavior,\n",
    "    dist_to_goal_threshold=config.dist_to_goal_threshold,\n",
    "    polyline_reduction_threshold=config.polyline_reduction_threshold,\n",
    "    remove_non_vehicles=config.remove_non_vehicles,\n",
    "    lidar_obs=config.lidar_obs,\n",
    "    disable_classic_obs=config.lidar_obs,\n",
    "    obs_radius=config.obs_radius,\n",
    "    steer_actions=torch.round(\n",
    "        torch.linspace(-torch.pi, torch.pi, config.action_space_steer_disc), decimals=3\n",
    "    ),\n",
    "    accel_actions=torch.round(\n",
    "        torch.linspace(-4.0, 4.0, config.action_space_accel_disc), decimals=3\n",
    "    ),\n",
    ")\n",
    "\n",
    "# Make env\n",
    "env = GPUDriveTorchEnv(\n",
    "    config=env_config,\n",
    "    data_loader=train_loader,\n",
    "    max_cont_agents=config.max_controlled_agents,\n",
    "    device=device,\n",
    ")"
   ]
  },
  {
   "cell_type": "code",
   "execution_count": 11,
   "metadata": {},
   "outputs": [
    {
     "data": {
      "text/plain": [
       "['data/exp/processed_small_no_obj.json']"
      ]
     },
     "execution_count": 11,
     "metadata": {},
     "output_type": "execute_result"
    }
   ],
   "source": [
    "env.data_batch"
   ]
  },
  {
   "cell_type": "markdown",
   "metadata": {},
   "source": [
    "### Use the agent"
   ]
  },
  {
   "cell_type": "code",
   "execution_count": 12,
   "metadata": {},
   "outputs": [
    {
     "data": {
      "text/plain": [
       "torch.Size([1, 64, 2984])"
      ]
     },
     "execution_count": 12,
     "metadata": {},
     "output_type": "execute_result"
    }
   ],
   "source": [
    "next_obs = env.reset()\n",
    "\n",
    "control_mask = env.cont_agent_mask\n",
    "\n",
    "next_obs.shape"
   ]
  },
  {
   "cell_type": "code",
   "execution_count": 13,
   "metadata": {},
   "outputs": [],
   "source": [
    "action, logprob, entropy, value = sim_agent(\n",
    "    next_obs[control_mask], deterministic=False\n",
    ")"
   ]
  },
  {
   "cell_type": "code",
   "execution_count": 14,
   "metadata": {},
   "outputs": [
    {
     "data": {
      "text/plain": [
       "(torch.Size([0]), torch.Size([0]), torch.Size([0]), torch.Size([0, 1]))"
      ]
     },
     "execution_count": 14,
     "metadata": {},
     "output_type": "execute_result"
    }
   ],
   "source": [
    "action.shape, logprob.shape, entropy.shape, value.shape"
   ]
  },
  {
   "cell_type": "markdown",
   "metadata": {},
   "source": [
    "### Rollout"
   ]
  },
  {
   "cell_type": "code",
   "execution_count": 15,
   "metadata": {},
   "outputs": [
    {
     "name": "stdout",
     "output_type": "stream",
     "text": [
      "torch.Size([1, 64, 2984])\n",
      "Step: 0"
     ]
    }
   ],
   "source": [
    "next_obs = env.reset()\n",
    "\n",
    "control_mask = env.cont_agent_mask\n",
    "\n",
    "print(next_obs.shape)\n",
    "\n",
    "frames = {f\"env_{i}\": [] for i in range(num_envs)}\n",
    "\n",
    "for time_step in range(env.episode_len):\n",
    "    print(f\"\\rStep: {time_step}\", end=\"\", flush=True)\n",
    "\n",
    "    # Predict actions\n",
    "    action, _, _, _ = sim_agent(\n",
    "        next_obs[control_mask], deterministic=False\n",
    "    )\n",
    "    action_template = torch.zeros(\n",
    "        (num_envs, max_agents), dtype=torch.int64, device=device\n",
    "    )\n",
    "    action_template[control_mask] = action.to(device)\n",
    "\n",
    "    # Step\n",
    "    env.step_dynamics(action_template)\n",
    "\n",
    "    # Render\n",
    "    sim_states = env.vis.plot_simulator_state(\n",
    "        env_indices=list(range(num_envs)),\n",
    "        time_steps=[time_step]*num_envs,\n",
    "        zoom_radius=100,\n",
    "    )\n",
    "\n",
    "    for i in range(num_envs):\n",
    "        frames[f\"env_{i}\"].append(img_from_fig(sim_states[i]))\n",
    "\n",
    "    next_obs = env.get_obs()\n",
    "    reward = env.get_rewards()\n",
    "    done = env.get_dones()\n",
    "    info = env.get_infos()\n",
    "\n",
    "    if done.all():\n",
    "        break\n",
    "\n",
    "env.close()"
   ]
  },
  {
   "cell_type": "code",
   "execution_count": 16,
   "metadata": {},
   "outputs": [
    {
     "data": {
      "text/html": [
       "<table class=\"show_videos\" style=\"border-spacing:0px;\"><tr><td style=\"padding:1px;\"><div style=\"display:flex; align-items:left;\">\n",
       "      <div style=\"display:flex; flex-direction:column; align-items:center;\">\n",
       "      <div>env_0</div><div><img width=\"500\" height=\"500\" style=\"image-rendering:auto; object-fit:cover;\" src=\"data:image/gif;base64,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\"/></div></div></div></td></tr></table>"
      ],
      "text/plain": [
       "<IPython.core.display.HTML object>"
      ]
     },
     "metadata": {},
     "output_type": "display_data"
    }
   ],
   "source": [
    "mediapy.show_videos(frames, fps=15, width=500,\n",
    "                    height=500, columns=2, codec='gif')"
   ]
  },
  {
   "cell_type": "code",
   "execution_count": null,
   "metadata": {},
   "outputs": [],
   "source": [
    "sim_states"
   ]
  },
  {
   "cell_type": "code",
   "execution_count": null,
   "metadata": {},
   "outputs": [],
   "source": []
  }
 ],
 "metadata": {
  "kernelspec": {
   "display_name": "gpudrive",
   "language": "python",
   "name": "python3"
  },
  "language_info": {
   "codemirror_mode": {
    "name": "ipython",
    "version": 3
   },
   "file_extension": ".py",
   "mimetype": "text/x-python",
   "name": "python",
   "nbconvert_exporter": "python",
   "pygments_lexer": "ipython3",
   "version": "3.11.13"
  }
 },
 "nbformat": 4,
 "nbformat_minor": 2
}
