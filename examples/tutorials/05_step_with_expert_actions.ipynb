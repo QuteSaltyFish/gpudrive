{
 "cells": [
  {
   "cell_type": "markdown",
   "metadata": {},
   "source": [
    "## Log-playback (expert) trajectory extraction and usage\n",
    "\n",
    "This notebook demonstrates how to extract expert actions using different dynamics models and step through scene with those actions. \n",
    "\n",
    "Details on the dynamics models are found in [the docs](https://github.com/Emerge-Lab/gpudrive/tree/main/pygpudrive/env).\n",
    "\n",
    "See also the [`LogTrajectory`](https://github.com/Emerge-Lab/gpudrive/blob/main/pygpudrive/datatypes/trajectory.py) datatype and [usage](https://github.com/Emerge-Lab/gpudrive/blob/c2ebb838a6b684c0f579c149bcb74f9cf31dc3ba/pygpudrive/env/env_torch.py#L436)."
   ]
  },
  {
   "cell_type": "code",
   "execution_count": 1,
   "metadata": {},
   "outputs": [],
   "source": [
    "from gpudrive.env.dataset import SceneDataLoader\n",
    "from gpudrive.visualize.utils import img_from_fig\n",
    "from gpudrive.env.env_torch import GPUDriveTorchEnv\n",
    "from gpudrive.env.config import EnvConfig, SceneConfig\n",
    "import os\n",
    "from pathlib import Path\n",
    "import mediapy\n",
    "\n",
    "# Set working directory to the base directory 'gpudrive'\n",
    "working_dir = Path.cwd()\n",
    "while not 'gpudrive' in working_dir.name:\n",
    "    working_dir = working_dir.parent\n",
    "    if working_dir == Path.home():\n",
    "        raise FileNotFoundError(\"Base directory 'gpudrive' not found\")\n",
    "os.chdir(working_dir)"
   ]
  },
  {
   "cell_type": "markdown",
   "metadata": {},
   "source": [
    "### Configurations"
   ]
  },
  {
   "cell_type": "code",
   "execution_count": null,
   "metadata": {},
   "outputs": [],
   "source": [
    "DYNAMICS_MODEL = \"delta_local\"  # \"delta_local\" / \"state\" / \"classic\"\n",
    "DATA_PATH = \"data/exp/\"  # Your data path\n",
    "MAX_NUM_OBJECTS = 64\n",
    "NUM_ENVS = 1\n",
    "\n",
    "# Configs\n",
    "env_config = EnvConfig(dynamics_model=DYNAMICS_MODEL)"
   ]
  },
  {
   "cell_type": "markdown",
   "metadata": {},
   "source": [
    "### Make environment"
   ]
  },
  {
   "cell_type": "code",
   "execution_count": 4,
   "metadata": {},
   "outputs": [
    {
     "name": "stderr",
     "output_type": "stream",
     "text": [
      "Warning: Invalid track_index 21 in scene tfrecord-00005-of-00150_84.json\n",
      "Warning: Invalid track_index 11 in scene tfrecord-00005-of-00150_84.json\n",
      "Warning: Invalid track_index 8 in scene tfrecord-00005-of-00150_84.json\n",
      "Warning: Invalid track_index 2 in scene tfrecord-00005-of-00150_84.json\n",
      "Warning: Invalid track_index 9 in scene tfrecord-00005-of-00150_84.json\n"
     ]
    }
   ],
   "source": [
    "# Make dataloader\n",
    "data_loader = SceneDataLoader(\n",
    "    root=\"data/exp\",  # Path to the dataset\n",
    "    # Batch size, you want this to be equal to the number of worlds (envs) so that every world receives a different scene\n",
    "    batch_size=NUM_ENVS,\n",
    "    dataset_size=NUM_ENVS,  # Total number of different scenes we want to use\n",
    "    sample_with_replacement=False,\n",
    "    seed=42,\n",
    "    shuffle=True,\n",
    ")\n",
    "\n",
    "# Make environment\n",
    "env = GPUDriveTorchEnv(\n",
    "    config=env_config,\n",
    "    data_loader=data_loader,\n",
    "    # Maximum number of agents to control per scenario\n",
    "    max_cont_agents=MAX_NUM_OBJECTS,\n",
    "    device=\"cpu\",\n",
    "    action_type=\"continuous\"  # \"continuous\" or \"discrete\"\n",
    ")"
   ]
  },
  {
   "cell_type": "markdown",
   "metadata": {},
   "source": [
    "### Get log-playback (expert) actions\n",
    "\n",
    "- Different dynamics models have different action spaces. For details, [see the docs.](https://github.com/Emerge-Lab/gpudrive/tree/main/pygpudrive/env)"
   ]
  },
  {
   "cell_type": "code",
   "execution_count": 5,
   "metadata": {},
   "outputs": [],
   "source": [
    "control_mask = env.cont_agent_mask\n",
    "\n",
    "obs = env.reset(control_mask)"
   ]
  },
  {
   "cell_type": "code",
   "execution_count": 6,
   "metadata": {},
   "outputs": [
    {
     "data": {
      "text/plain": [
       "torch.Size([1, 64, 91, 3])"
      ]
     },
     "execution_count": 6,
     "metadata": {},
     "output_type": "execute_result"
    }
   ],
   "source": [
    "# Extract full expert trajectory\n",
    "expert_actions, _, _, _ = env.get_expert_actions()\n",
    "\n",
    "expert_actions.shape  # Shape: (num_envs, num_steps, num_agents, num_actions)"
   ]
  },
  {
   "cell_type": "markdown",
   "metadata": {},
   "source": [
    "### Step through an episode"
   ]
  },
  {
   "cell_type": "code",
   "execution_count": 7,
   "metadata": {},
   "outputs": [],
   "source": [
    "# Reset environment\n",
    "obs = env.reset(control_mask)\n",
    "done_envs = []\n",
    "\n",
    "frames = {f\"env_{i}\": [] for i in range(NUM_ENVS)}\n",
    "\n",
    "# Step through the scene\n",
    "for t in range(env.episode_len):\n",
    "\n",
    "    env.step_dynamics(expert_actions[:, :, t, :])\n",
    "\n",
    "    dones = env.get_dones()\n",
    "\n",
    "    # Render the scenes\n",
    "    env_indices = [i for i in range(NUM_ENVS) if i not in done_envs]\n",
    "    figs = env.vis.plot_simulator_state(\n",
    "        env_indices=env_indices,\n",
    "        time_steps=[t]*NUM_ENVS,\n",
    "        zoom_radius=100,\n",
    "        # center_agent_indices=[0]*NUM_ENVS,\n",
    "    )\n",
    "    for i, env_id in enumerate(env_indices):\n",
    "        frames[f\"env_{env_id}\"].append(img_from_fig(figs[i]))\n",
    "\n",
    "    # Check if done\n",
    "    for env_id in range(NUM_ENVS):\n",
    "        if dones[env_id].all():\n",
    "            done_envs.append(env_id)"
   ]
  },
  {
   "cell_type": "markdown",
   "metadata": {},
   "source": [
    "## Show videos"
   ]
  },
  {
   "cell_type": "code",
   "execution_count": 8,
   "metadata": {},
   "outputs": [
    {
     "data": {
      "text/html": [
       "<table class=\"show_videos\" style=\"border-spacing:0px;\"><tr><td style=\"padding:1px;\"><div style=\"display:flex; align-items:left;\">\n",
       "      <div style=\"display:flex; flex-direction:column; align-items:center;\">\n",
       "      <div>env_0</div><div><img width=\"500\" height=\"500\" style=\"image-rendering:auto; object-fit:cover;\" src=\"data:image/gif;base64,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\"/></div></div></div></td></tr></table>"
      ],
      "text/plain": [
       "<IPython.core.display.HTML object>"
      ]
     },
     "metadata": {},
     "output_type": "display_data"
    }
   ],
   "source": [
    "mediapy.show_videos(frames, fps=15, columns=3, codec='gif', width=500)"
   ]
  },
  {
   "cell_type": "code",
   "execution_count": null,
   "metadata": {},
   "outputs": [],
   "source": []
  }
 ],
 "metadata": {
  "kernelspec": {
   "display_name": "gpudrive",
   "language": "python",
   "name": "python3"
  },
  "language_info": {
   "codemirror_mode": {
    "name": "ipython",
    "version": 3
   },
   "file_extension": ".py",
   "mimetype": "text/x-python",
   "name": "python",
   "nbconvert_exporter": "python",
   "pygments_lexer": "ipython3",
   "version": "3.11.13"
  }
 },
 "nbformat": 4,
 "nbformat_minor": 2
}
